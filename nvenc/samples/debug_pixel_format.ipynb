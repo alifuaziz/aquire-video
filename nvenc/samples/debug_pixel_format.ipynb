{
 "cells": [
  {
   "cell_type": "code",
   "execution_count": 7,
   "metadata": {},
   "outputs": [],
   "source": [
    "import LiveEncode as le\n",
    "import PySpin\n",
    "from PIL import Image\n",
    "import cv2\n",
    "import numpy as np\n"
   ]
  },
  {
   "cell_type": "code",
   "execution_count": 2,
   "metadata": {},
   "outputs": [],
   "source": [
    "\n",
    "# Initialize camera\n",
    "system = PySpin.System.GetInstance()\n",
    "cam_list = system.GetCameras()\n",
    "cam = cam_list.GetByIndex(0)\n",
    "cam.Init()\n",
    "cam.AcquisitionMode.SetValue(PySpin.AcquisitionMode_Continuous)\n",
    "cam.BeginAcquisition()"
   ]
  },
  {
   "cell_type": "code",
   "execution_count": 3,
   "metadata": {},
   "outputs": [],
   "source": [
    "# frame_size = le.GetFrameSize(width, height, fmt)\n",
    "frame_count = 10\n",
    "frames = []\n",
    "\n",
    "for _ in range(frame_count):\n",
    "    image_result = cam.GetNextImage()\n",
    "    if image_result.IsIncomplete():\n",
    "        print(\"Image incomplete with image status %d...\" % image_result.GetImageStatus())\n",
    "        continue\n",
    "\n",
    "    image_data = image_result.GetNDArray()\n",
    "    frames.append(image_data.flatten())  # Flatten the image data to 1D array\n",
    "    image_result.Release() # Release the image buffer\n",
    "\n"
   ]
  },
  {
   "cell_type": "code",
   "execution_count": 16,
   "metadata": {},
   "outputs": [],
   "source": [
    "width = image_result.GetHeight()\n",
    "height = image_result.GetWidth()\n",
    "\n",
    "img = frames[0].reshape(width, height)\n",
    "image = Image.fromarray(img)\n",
    "image.save(\"test.jpg\")\n",
    "\n",
    "# convert img to yuv format\n",
    "img_three_channel = cv2.cvtColor(img, cv2.COLOR_GRAY2BGR)\n",
    "img_yuv = cv2.cvtColor(img_three_channel, cv2.COLOR_BGR2YUV)\n",
    "# split the yuv image\n",
    "y, u, v = cv2.split(img_yuv)\n",
    "\n",
    "\n",
    "# save the image\n",
    "image = Image.fromarray(img_yuv)\n",
    "image.save(\"test_yuv.jpg\")\n",
    "\n",
    "with open(\"test.yuv\", \"wb\") as f:\n",
    "    f.write(img_yuv.tobytes())\n",
    "# image.show()\n",
    "\n",
    "\n"
   ]
  },
  {
   "cell_type": "code",
   "execution_count": 22,
   "metadata": {},
   "outputs": [],
   "source": [
    "'''\n",
    "The Y channel is the only channel is needed because the camera sensor is monochrome\n",
    "'''\n",
    "channels = [y, u, v]\n",
    "for channel in channels:\n",
    "    # convert the channel to image\n",
    "    channel_img = Image.fromarray(channel)\n",
    "    channel_img.show()\n"
   ]
  },
  {
   "cell_type": "code",
   "execution_count": 1,
   "metadata": {},
   "outputs": [
    {
     "ename": "NameError",
     "evalue": "name 'width' is not defined",
     "output_type": "error",
     "traceback": [
      "\u001b[1;31m---------------------------------------------------------------------------\u001b[0m",
      "\u001b[1;31mNameError\u001b[0m                                 Traceback (most recent call last)",
      "Cell \u001b[1;32mIn[1], line 3\u001b[0m\n\u001b[0;32m      1\u001b[0m \u001b[38;5;28;01mimport\u001b[39;00m \u001b[38;5;21;01mnumpy\u001b[39;00m \u001b[38;5;28;01mas\u001b[39;00m \u001b[38;5;21;01mnp\u001b[39;00m\n\u001b[0;32m      2\u001b[0m \u001b[38;5;66;03m#generate random data of size width*height\u001b[39;00m\n\u001b[1;32m----> 3\u001b[0m data \u001b[38;5;241m=\u001b[39m np\u001b[38;5;241m.\u001b[39mrandom\u001b[38;5;241m.\u001b[39mrand(\u001b[43mwidth\u001b[49m, height)\n\u001b[0;32m      4\u001b[0m plt\u001b[38;5;241m.\u001b[39mimshow(data[\u001b[38;5;241m0\u001b[39m:\u001b[38;5;241m100\u001b[39m, \u001b[38;5;241m0\u001b[39m:\u001b[38;5;241m100\u001b[39m])\n",
      "\u001b[1;31mNameError\u001b[0m: name 'width' is not defined"
     ]
    }
   ],
   "source": [
    "import numpy as np\n",
    "#generate random data of size width*height\n",
    "data = np.random.rand(width, height)\n",
    "plt.imshow(data[0:100, 0:100])\n"
   ]
  },
  {
   "cell_type": "code",
   "execution_count": null,
   "metadata": {},
   "outputs": [],
   "source": []
  },
  {
   "cell_type": "code",
   "execution_count": null,
   "metadata": {},
   "outputs": [],
   "source": []
  }
 ],
 "metadata": {
  "kernelspec": {
   "display_name": "flir",
   "language": "python",
   "name": "python3"
  },
  "language_info": {
   "codemirror_mode": {
    "name": "ipython",
    "version": 3
   },
   "file_extension": ".py",
   "mimetype": "text/x-python",
   "name": "python",
   "nbconvert_exporter": "python",
   "pygments_lexer": "ipython3",
   "version": "3.10.15"
  }
 },
 "nbformat": 4,
 "nbformat_minor": 2
}
